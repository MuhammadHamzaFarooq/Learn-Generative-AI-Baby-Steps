{
 "cells": [
  {
   "cell_type": "markdown",
   "metadata": {},
   "source": [
    "# Step 01 : Enviromnent Steup\n",
    "* [Install Anaconda](https://www.anaconda.com/products/individual)\n",
    "* [Install Jupyter Notebook](https://jupyte*r.org/install)\n",
    "* [Install Python 3.12](https://www.python.org/downloads/)\n",
    "* check python version `python --version`\n",
    "* Enviroment Create Command `conda create -n env_name python=3.12`\n",
    "* Enviroment Activate Command `conda activate env_name`\n",
    "* Enviroment List Check Command `conda env list`\n",
    "* Enviroment Remove Command `conda remove --name env_name --all`\n",
    "* Enviroment Update Command `conda update --all`\n",
    "* Enviroment Export Command `conda env export > environment.yml`\n",
    "* Enviroment Import Command `conda env create -f environment.yml`\n",
    "\n",
    "# Step O2 : OpenAPI Step\n",
    "\n",
    "* Install Packages from `requirement.txt`\n",
    "* Packges Install Command `pip install -r requirement.txt`"
   ]
  }
 ],
 "metadata": {
  "language_info": {
   "name": "python"
  }
 },
 "nbformat": 4,
 "nbformat_minor": 2
}
